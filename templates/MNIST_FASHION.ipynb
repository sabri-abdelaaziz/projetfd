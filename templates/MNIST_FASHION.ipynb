{
 "cells": [
  {
   "cell_type": "markdown",
   "id": "0dedc197",
   "metadata": {},
   "source": [
    "# faire exemple avec visualiser le image de test mnist fashion"
   ]
  },
  {
   "cell_type": "code",
   "execution_count": 2,
   "id": "16a421c3",
   "metadata": {},
   "outputs": [
    {
     "name": "stderr",
     "output_type": "stream",
     "text": [
      "2023-02-24 11:10:46.464655: I tensorflow/core/platform/cpu_feature_guard.cc:193] This TensorFlow binary is optimized with oneAPI Deep Neural Network Library (oneDNN) to use the following CPU instructions in performance-critical operations:  AVX2 FMA\n",
      "To enable them in other operations, rebuild TensorFlow with the appropriate compiler flags.\n"
     ]
    },
    {
     "data": {
      "image/png": "[encoded data removed]",
      "text/plain": [
       "<Figure size 432x288 with 1 Axes>"
      ]
     },
     "metadata": {
      "needs_background": "light"
     },
     "output_type": "display_data"
    }
   ],
   "source": [
    "import matplotlib.pyplot as plt\n",
    "import numpy as np\n",
    "import keras as keras\n",
    "from tensorflow.keras.datasets import fashion_mnist\n",
    "\n",
    "(x_train, y_train), (x_test, y_test) = fashion_mnist.load_data()\n",
    "\n",
    "# Choisir une image aléatoire dans le jeu de données de test\n",
    "random_index = np.random.randint(0, len(x_test))\n",
    "image = x_train[589]\n",
    "\n",
    "# Visualiser l'image\n",
    "plt.imshow(image, cmap='gray')\n",
    "plt.title(\"Catégorie de vêtement: {}\".format(y_test[random_index]))\n",
    "plt.show()"
   ]
  },
  {
   "cell_type": "code",
   "execution_count": 2,
   "id": "b1c12557",
   "metadata": {},
   "outputs": [],
   "source": [
    "#!pip install tensorflow"
   ]
  },
  {
   "cell_type": "markdown",
   "id": "736d378d",
   "metadata": {},
   "source": [
    "# faire exemple avec visualiser le image de test mnist fashion en utilisant réseaux neurones \n"
   ]
  },
  {
   "cell_type": "code",
   "execution_count": 5,
   "id": "be796aca",
   "metadata": {},
   "outputs": [
    {
     "name": "stdout",
     "output_type": "stream",
     "text": [
      "Epoch 1/10\n",
      "469/469 [==============================] - 24s 48ms/step - loss: 0.4732 - accuracy: 0.8366\n",
      "Epoch 2/10\n",
      "469/469 [==============================] - 21s 46ms/step - loss: 0.3094 - accuracy: 0.8913\n",
      "Epoch 3/10\n",
      "469/469 [==============================] - 20s 43ms/step - loss: 0.2687 - accuracy: 0.9052\n",
      "Epoch 4/10\n",
      "469/469 [==============================] - 20s 43ms/step - loss: 0.2417 - accuracy: 0.9141\n",
      "Epoch 5/10\n",
      "469/469 [==============================] - 23s 48ms/step - loss: 0.2230 - accuracy: 0.9196\n",
      "Epoch 6/10\n",
      "469/469 [==============================] - 22s 46ms/step - loss: 0.2076 - accuracy: 0.9260\n",
      "Epoch 7/10\n",
      "469/469 [==============================] - 21s 45ms/step - loss: 0.1916 - accuracy: 0.9308\n",
      "Epoch 8/10\n",
      "469/469 [==============================] - 20s 43ms/step - loss: 0.1801 - accuracy: 0.9343\n",
      "Epoch 9/10\n",
      "469/469 [==============================] - 19s 41ms/step - loss: 0.1660 - accuracy: 0.9395\n",
      "Epoch 10/10\n",
      "469/469 [==============================] - 21s 46ms/step - loss: 0.1554 - accuracy: 0.9437\n",
      "313/313 [==============================] - 3s 8ms/step - loss: 0.2574 - accuracy: 0.9117\n",
      "Test accuracy: 0.9117000102996826\n",
      "1/1 [==============================] - 0s 328ms/step\n"
     ]
    },
    {
     "data": {
      "image/png": "[encoded data removed]",
      "text/plain": [
       "<Figure size 432x288 with 1 Axes>"
      ]
     },
     "metadata": {
      "needs_background": "light"
     },
     "output_type": "display_data"
    }
   ],
   "source": [
    "import matplotlib.pyplot as plt\n",
    "import numpy as np\n",
    "import tensorflow as tf\n",
    "from tensorflow import keras\n",
    "from tensorflow.keras.datasets import fashion_mnist\n",
    "\n",
    "(x_train, y_train), (x_test, y_test) = fashion_mnist.load_data()\n",
    "\n",
    "yy_test=y_test\n",
    "\n",
    "# Prétraiter les données pour la classification\n",
    "x_train = x_train.reshape(x_train.shape[0], 28, 28, 1)\n",
    "x_test = x_test.reshape(x_test.shape[0], 28, 28, 1)\n",
    "x_train = x_train.astype('float32')\n",
    "x_test = x_test.astype('float32')\n",
    "x_train /= 255\n",
    "x_test /= 255\n",
    "\n",
    "# Convertir les étiquettes en vecteurs de catégories one-hot\n",
    "num_classes = 10\n",
    "y_train = keras.utils.to_categorical(y_train, num_classes)\n",
    "y_test = keras.utils.to_categorical(y_test, num_classes)\n",
    "\n",
    "# Définir le modèle\n",
    "model = keras.Sequential()\n",
    "model.add(keras.layers.Conv2D(32, kernel_size=(3, 3), activation='relu', input_shape=(28, 28, 1)))\n",
    "model.add(keras.layers.MaxPooling2D(pool_size=(2, 2)))\n",
    "model.add(keras.layers.Flatten())\n",
    "model.add(keras.layers.Dense(64, activation='relu'))\n",
    "model.add(keras.layers.Dense(10, activation='softmax'))\n",
    "\n",
    "# Compiler le modèle\n",
    "model.compile(loss='categorical_crossentropy', optimizer='adam', metrics=['accuracy'])\n",
    "\n",
    "# Entraîner le modèle\n",
    "model.fit(x_train, y_train, epochs=10 , batch_size=128)\n",
    "\n",
    "# Évaluer le modèle\n",
    "test_loss, test_acc = model.evaluate(x_test, y_test)\n",
    "print('Test accuracy:', test_acc)\n",
    "\n",
    "# Choisir une image aléatoire dans le jeu de données de test\n",
    "random_index = np.random.randint(0, len(x_test))\n",
    "image = x_test[random_index].reshape(1, 28, 28, 1)\n",
    "\n",
    "# Utiliser le modèle pour prédire la catégorie de l'image\n",
    "prediction = model.predict(image).argmax()\n",
    "\n",
    "# Visualiser l'image\n",
    "plt.imshow(image.reshape(28, 28), cmap='gray')\n",
    "plt.title(\"Prédiction: {}\".format(prediction))\n",
    "plt.show()\n",
    "\n",
    "model.save('fashionmodel.h5')\n",
    "\n"
   ]
  },
  {
   "cell_type": "code",
   "execution_count": 6,
   "id": "95f3d7e6",
   "metadata": {},
   "outputs": [
    {
     "name": "stdout",
     "output_type": "stream",
     "text": [
      "1/1 [==============================] - 0s 47ms/step\n"
     ]
    },
    {
     "data": {
      "image/png": "[encoded data removed]",
      "text/plain": [
       "<Figure size 432x288 with 1 Axes>"
      ]
     },
     "metadata": {
      "needs_background": "light"
     },
     "output_type": "display_data"
    },
    {
     "data": {
      "text/plain": [
       "'Coat'"
      ]
     },
     "execution_count": 6,
     "metadata": {},
     "output_type": "execute_result"
    }
   ],
   "source": [
    "# Choisir une image aléatoire dans le jeu de données de test\n",
    "random_index = np.random.randint(0, len(x_test))\n",
    "image = x_test[random_index].reshape(1, 28, 28, 1)\n",
    "\n",
    "# Utiliser le modèle pour prédire la catégorie de l'image\n",
    "prediction = model.predict(image).argmax()\n",
    "\n",
    "# Visualiser l'image\n",
    "plt.imshow(image.reshape(28, 28), cmap='gray')\n",
    "plt.title(\"Prédiction: {}\".format(prediction))\n",
    "plt.show()\n",
    "classes[prediction]\n"
   ]
  },
  {
   "cell_type": "code",
   "execution_count": 7,
   "id": "bb7ba014",
   "metadata": {},
   "outputs": [
    {
     "name": "stdout",
     "output_type": "stream",
     "text": [
      "1/1 [==============================] - 0s 91ms/step\n"
     ]
    },
    {
     "data": {
      "image/png": "[encoded data removed]",
      "text/plain": [
       "<Figure size 432x288 with 1 Axes>"
      ]
     },
     "metadata": {
      "needs_background": "light"
     },
     "output_type": "display_data"
    },
    {
     "data": {
      "text/plain": [
       "'Trouser'"
      ]
     },
     "execution_count": 7,
     "metadata": {},
     "output_type": "execute_result"
    }
   ],
   "source": [
    "\n",
    "model = keras.models.load_model('fashionmodel.h5')\n",
    "# Visualiser l'image\n",
    "classes = [\"T-shirt/top\" , \"Trouser\" , \"Pullover\" , \"Dress\" , \"Coat\" , \"Sandal\" , \"Shirt\" ,\"Sneaker\" , \"Bag\" ,\"Ankel boot\"]\n",
    "# Choisir une image aléatoire dans le jeu de données de test\n",
    "random_index = np.random.randint(0, len(x_test))\n",
    "image = x_test[2].reshape( 1 ,28, 28, 1)\n",
    "\n",
    "# Utiliser le modèle pour prédire la catégorie de l'image\n",
    "prediction = model.predict(image).argmax()\n",
    "\n",
    "# Visualiser l'image\n",
    "plt.imshow(image.reshape(28, 28), cmap='gray')\n",
    "plt.title(\"Prédiction: {}\".format(prediction))\n",
    "plt.show()\n",
    "\n",
    "classes[prediction]"
   ]
  },
  {
   "cell_type": "code",
   "execution_count": 269,
   "id": "c4390efc",
   "metadata": {},
   "outputs": [
    {
     "name": "stdout",
     "output_type": "stream",
     "text": [
      "313/313 [==============================] - 1s 4ms/step\n",
      "(10000,)\n",
      "(10000,)\n"
     ]
    }
   ],
   "source": [
    "y_pred = model.predict(x_test)\n",
    "y_pred \n",
    "\n",
    "y_classes =np.array([np.argmax(el) for el in y_pred]) \n",
    "print(y_classes.shape)\n",
    "print(yy_test.shape)"
   ]
  },
  {
   "cell_type": "code",
   "execution_count": 270,
   "id": "6fa910b3",
   "metadata": {},
   "outputs": [
    {
     "name": "stdout",
     "output_type": "stream",
     "text": [
      "[[881   0  17  12   2   2  79   0   7   0]\n",
      " [  2 988   2   5   1   0   2   0   0   0]\n",
      " [ 14   2 887   5  37   0  55   0   0   0]\n",
      " [ 26  10  16 892  23   0  30   0   3   0]\n",
      " [  1   1  93  25 819   0  60   0   1   0]\n",
      " [  0   0   0   0   0 989   0   6   0   5]\n",
      " [122   2  67  22  51   0 727   0   9   0]\n",
      " [  0   0   0   0   0  21   0 955   0  24]\n",
      " [  3   1   4   2   4   2   4   2 978   0]\n",
      " [  0   0   0   0   0   9   1  31   0 959]]\n"
     ]
    },
    {
     "data": {
      "text/plain": [
       "0.9075"
      ]
     },
     "execution_count": 270,
     "metadata": {},
     "output_type": "execute_result"
    }
   ],
   "source": [
    "\n",
    "\n",
    "from sklearn.metrics import confusion_matrix\n",
    "\n",
    "confusion = confusion_matrix(yy_test, y_classes)\n",
    "print(confusion)\n",
    "classes = [\"T-shirt/top\" , \"Trouser\" , \"Pullover\" , \"Dress\" , \"Coat\" , \"Sandal\" , \"Shirt\" ,\"Sneaker\" , \"Bag\" ,\"Ankel boot\"]\n",
    "np.trace(confusion)/(np.sum(confusion))"
   ]
  },
  {
   "cell_type": "code",
   "execution_count": 21,
   "id": "7c25c9f8",
   "metadata": {},
   "outputs": [
    {
     "data": {
      "text/plain": [
       "<matplotlib.image.AxesImage at 0x7ff1ac509fd0>"
      ]
     },
     "execution_count": 21,
     "metadata": {},
     "output_type": "execute_result"
    },
    {
     "data": {
      "image/png": "[encoded data removed]",
      "text/plain": [
       "<Figure size 432x288 with 1 Axes>"
      ]
     },
     "metadata": {
      "needs_background": "light"
     },
     "output_type": "display_data"
    }
   ],
   "source": [
    "\n",
    "\n",
    "\n",
    "\n",
    "\n",
    "loaded_model = keras.models.load_model('fashionmodel.h5')\n",
    "from PIL import Image\n",
    "import numpy as np\n",
    "from PIL import ImageOps\n",
    "\n",
    "\n",
    "# Load the image\n",
    "image2 = Image.open('ts2.jpg')\n",
    "image2 = image2.convert('L')\n",
    "image2 = image2.resize((28, 28))\n",
    "image2 = ImageOps.invert(image2)\n",
    "image_array =  np.array(image2 , dtype = 'float32')\n",
    "image_array = image_array.flatten()\n",
    "image_array = image_array.reshape((28, 28))\n",
    "image_array/=255\n",
    "plt.imshow(image_array )\n"
   ]
  },
  {
   "cell_type": "code",
   "execution_count": 22,
   "id": "ddc12889",
   "metadata": {},
   "outputs": [
    {
     "name": "stdout",
     "output_type": "stream",
     "text": [
      "1/1 [==============================] - 0s 33ms/step\n"
     ]
    },
    {
     "data": {
      "image/png": "[encoded data removed]",
      "text/plain": [
       "<Figure size 432x288 with 1 Axes>"
      ]
     },
     "metadata": {
      "needs_background": "light"
     },
     "output_type": "display_data"
    },
    {
     "data": {
      "text/plain": [
       "'Pullover'"
      ]
     },
     "execution_count": 22,
     "metadata": {},
     "output_type": "execute_result"
    }
   ],
   "source": [
    "\n",
    "image = image_array .reshape( 1 ,28, 28, 1)\n",
    "\n",
    "# Utiliser le modèle pour prédire la catégorie de l'image\n",
    "prediction = model.predict(image).argmax()\n",
    "\n",
    "# Visualiser l'image\n",
    "plt.imshow(image.reshape(28, 28), cmap='gray')\n",
    "plt.title(\"Prédiction: {}\".format(prediction))\n",
    "plt.show()\n",
    "classes[prediction]\n"
   ]
  },
  {
   "cell_type": "code",
   "execution_count": 195,
   "id": "841c43af",
   "metadata": {},
   "outputs": [
    {
     "data": {
      "image/png": "[encoded data removed]",
      "text/plain": [
       "<Figure size 432x288 with 1 Axes>"
      ]
     },
     "metadata": {
      "needs_background": "light"
     },
     "output_type": "display_data"
    },
    {
     "ename": "NameError",
     "evalue": "name 'x_text' is not defined",
     "output_type": "error",
     "traceback": [
      "\u001b[0;31m---------------------------------------------------------------------------\u001b[0m",
      "\u001b[0;31mNameError\u001b[0m                                 Traceback (most recent call last)",
      "Input \u001b[0;32mIn [195]\u001b[0m, in \u001b[0;36m<cell line: 37>\u001b[0;34m()\u001b[0m\n\u001b[1;32m     34\u001b[0m plt\u001b[38;5;241m.\u001b[39mimshow(image_array)\n\u001b[1;32m     35\u001b[0m plt\u001b[38;5;241m.\u001b[39mshow()\n\u001b[0;32m---> 37\u001b[0m y_pred \u001b[38;5;241m=\u001b[39m loaded_model\u001b[38;5;241m.\u001b[39mpredict(np\u001b[38;5;241m.\u001b[39mexpand_dims(\u001b[43mx_text\u001b[49m[\u001b[38;5;241m0\u001b[39m]))\n\u001b[1;32m     40\u001b[0m y_classes \u001b[38;5;241m=\u001b[39m [np\u001b[38;5;241m.\u001b[39margmax(el) \u001b[38;5;28;01mfor\u001b[39;00m el \u001b[38;5;129;01min\u001b[39;00m y_pred]\n\u001b[1;32m     42\u001b[0m \u001b[38;5;28mprint\u001b[39m(classes[y_classes[\u001b[38;5;241m0\u001b[39m]])\n",
      "\u001b[0;31mNameError\u001b[0m: name 'x_text' is not defined"
     ]
    }
   ],
   "source": [
    "loaded_model = keras.models.load_model('fashionmodel.h5')\n",
    "from PIL import Image\n",
    "import numpy as np\n",
    "from PIL import ImageOps\n",
    "\n",
    "# Load the image\n",
    "image = Image.open('imm3.jpg')\n",
    "\n",
    "# Convert the image to grayscale\n",
    "image = image.convert('L')\n",
    "\n",
    "# Resize the image to 28x28 pixels\n",
    "image = image.resize((28, 28))\n",
    "\n",
    "# Invert the colors (if necessary)\n",
    "image = ImageOps.invert(image)\n",
    "\n",
    "# Convert the image to a numpy array\n",
    "image_array = np.array(image)\n",
    "\n",
    "# Flatten the image array\n",
    "image_array = image_array.flatten()\n",
    "\n",
    "# Reshape the image array to be 28x28 pixels\n",
    "image_array = image_array.reshape((28, 28))\n",
    "\n",
    "# Normalize the pixel values to be between 0 and 1\n",
    "image_array = image_array / 255.0\n",
    "\n",
    "# Convert the pixel values to integers between 0 and 255\n",
    "image_array = (image_array * 255).astype(np.uint8)\n",
    "\n",
    "# Display the image\n",
    "plt.imshow(image_array, cmap='gray')\n",
    "plt.show()\n",
    "\n",
    "y_pred = loaded_model.predict(np.expand_dims(x_text[0]))\n",
    "\n",
    "\n",
    "y_classes = [np.argmax(el) for el in y_pred]\n",
    "\n",
    "print(classes[y_classes[0]])"
   ]
  },
  {
   "cell_type": "code",
   "execution_count": null,
   "id": "39f366bf",
   "metadata": {},
   "outputs": [],
   "source": []
  },
  {
   "cell_type": "code",
   "execution_count": null,
   "id": "0a3f7f53",
   "metadata": {},
   "outputs": [],
   "source": []
  },
  {
   "cell_type": "code",
   "execution_count": null,
   "id": "fffd8ce5",
   "metadata": {},
   "outputs": [],
   "source": []
  },
  {
   "cell_type": "code",
   "execution_count": null,
   "id": "622c9365",
   "metadata": {},
   "outputs": [],
   "source": []
  },
  {
   "cell_type": "code",
   "execution_count": null,
   "id": "ff4b1d5e",
   "metadata": {},
   "outputs": [],
   "source": []
  },
  {
   "cell_type": "code",
   "execution_count": null,
   "id": "f3dba0e2",
   "metadata": {},
   "outputs": [],
   "source": []
  },
  {
   "cell_type": "code",
   "execution_count": null,
   "id": "9e113dad",
   "metadata": {},
   "outputs": [],
   "source": []
  },
  {
   "cell_type": "code",
   "execution_count": null,
   "id": "57d6c3c9",
   "metadata": {},
   "outputs": [],
   "source": []
  },
  {
   "cell_type": "code",
   "execution_count": null,
   "id": "e024136f",
   "metadata": {},
   "outputs": [],
   "source": []
  },
  {
   "cell_type": "code",
   "execution_count": null,
   "id": "c2338aab",
   "metadata": {},
   "outputs": [],
   "source": []
  },
  {
   "cell_type": "code",
   "execution_count": null,
   "id": "c7821ce9",
   "metadata": {},
   "outputs": [],
   "source": []
  },
  {
   "cell_type": "code",
   "execution_count": null,
   "id": "2bae59c5",
   "metadata": {},
   "outputs": [],
   "source": []
  },
  {
   "cell_type": "code",
   "execution_count": null,
   "id": "f7205a6f",
   "metadata": {},
   "outputs": [],
   "source": []
  },
  {
   "cell_type": "code",
   "execution_count": null,
   "id": "efcc459c",
   "metadata": {},
   "outputs": [],
   "source": []
  },
  {
   "cell_type": "code",
   "execution_count": null,
   "id": "4359c9d7",
   "metadata": {},
   "outputs": [],
   "source": []
  },
  {
   "cell_type": "code",
   "execution_count": null,
   "id": "9e2485da",
   "metadata": {},
   "outputs": [],
   "source": []
  },
  {
   "cell_type": "code",
   "execution_count": null,
   "id": "b91aaa32",
   "metadata": {},
   "outputs": [],
   "source": []
  },
  {
   "cell_type": "code",
   "execution_count": null,
   "id": "877de537",
   "metadata": {},
   "outputs": [],
   "source": []
  },
  {
   "cell_type": "code",
   "execution_count": null,
   "id": "53282e71",
   "metadata": {},
   "outputs": [],
   "source": []
  },
  {
   "cell_type": "code",
   "execution_count": null,
   "id": "5c106cd3",
   "metadata": {},
   "outputs": [],
   "source": []
  },
  {
   "cell_type": "code",
   "execution_count": null,
   "id": "1f208bf9",
   "metadata": {},
   "outputs": [],
   "source": []
  },
  {
   "cell_type": "code",
   "execution_count": null,
   "id": "3f895808",
   "metadata": {},
   "outputs": [],
   "source": []
  },
  {
   "cell_type": "code",
   "execution_count": null,
   "id": "814c47d5",
   "metadata": {},
   "outputs": [],
   "source": []
  },
  {
   "cell_type": "code",
   "execution_count": null,
   "id": "0178e112",
   "metadata": {},
   "outputs": [],
   "source": []
  },
  {
   "cell_type": "code",
   "execution_count": null,
   "id": "1defa407",
   "metadata": {},
   "outputs": [],
   "source": []
  },
  {
   "cell_type": "code",
   "execution_count": null,
   "id": "cef715ee",
   "metadata": {},
   "outputs": [],
   "source": []
  },
  {
   "cell_type": "markdown",
   "id": "db190fe2",
   "metadata": {},
   "source": [
    "# Désolé si le code précédent était un peu complexe. Je vais essayer de vous expliquer ce qui se passe étape par étape.\n",
    "\n",
    "    Importation des bibliothèques: Nous importons les bibliothèques nécessaires pour le traitement et la visualisation de données, ainsi que la bibliothèque TensorFlow pour construire et entraîner un réseau neuronal.\n",
    "\n",
    "    Chargement des données: Nous utilisons la fonction load_data pour charger les données d'entraînement et de test MNIST Fashion. Les données sont divisées en deux parties: x_train et y_train sont les données d'entraînement et les étiquettes associées, tandis que x_test et y_test sont les données de test et les étiquettes associées.\n",
    "\n",
    "    Prétraitement des données: Nous réformons les données x_train et x_test pour les adapter à la forme d'entrée attendue par le réseau neuronal. Nous normalisons également les données pour les mettre dans l'intervalle [0, 1].\n",
    "\n",
    "    Conversion des étiquettes: Nous convertissons les étiquettes y_train et y_test en vecteurs de catégories one-hot pour les utiliser dans la classification.\n",
    "\n",
    "    Définition du modèle: Nous définissons un modèle de réseau neuronal simple à l'aide de la bibliothèque Keras. Le modèle comporte plusieurs couches de neurones: une couche de convolution pour extraire les caractéristiques des données d'entrée, une couche de pooling pour réduire la dimension de ces caractéristiques, une couche de densité pour les utiliser dans la classification, et une couche de sortie pour fournir les prédictions.\n",
    "\n",
    "    Compilation du modèle: Nous compilons le modèle en définissant la fonction de coût (entropie croisée), l'optimiseur (Adam) et les métriques (exactitude) à utiliser lors de l'entraînement.\n",
    "\n",
    "    Entraînement du modèle: Nous entraînons le modèle en utilisant les données d'entraînement x_train et y_train pendant 10 époques, avec un lot de 128 images à chaque fois.\n",
    "\n",
    "    Évaluation du modèle: Nous évaluons le modèle en utilisant les données de test x_test et y_test. Nous affichons l'exactitude de test obtenue.\n",
    "\n",
    "    Prédiction d'une image aléatoire: Nous choisissons une image aléatoire dans le jeu de données de\n",
    "\n"
   ]
  },
  {
   "cell_type": "markdown",
   "id": "30b2a636",
   "metadata": {},
   "source": [
    "# Cahierde charge EST\n",
    "\n",
    "\n",
    "    Objectifs:\n",
    "        Mettre en œuvre un réseau de neurones convolutif pour classer les images de vêtements dans le jeu de données MNIST Fashion.\n",
    "        Évaluer la performance du modèle en utilisant l'exactitude de test.\n",
    "\n",
    "    Données d'entrée:\n",
    "        Jeu de données MNIST Fashion comprenant 70 000 images de vêtements étiquetées dans 10 classes différentes.\n",
    "\n",
    "    Plateforme de développement:\n",
    "        Python avec les bibliothèques TensorFlow et Keras.\n",
    "\n",
    "    Modèle:\n",
    "        Réseau de neurones convolutif à plusieurs couches avec des couches de convolution, de pooling et de normalisation.\n",
    "        Le modèle sera entraîné sur 60 000 images du jeu de données MNIST Fashion et évalué sur 10 000 images restantes.\n",
    "\n",
    "    Performance:\n",
    "        La performance du modèle sera mesurée en utilisant l'exactitude de test. Une exactitude de test supérieure à 90% sera considérée comme un bon résultat.\n",
    "\n",
    "    Livrables:\n",
    "        Code source complet pour l'application.\n",
    "        Un rapport détaillant les étapes de développement et les résultats obtenus.\n",
    "        Visualisation des résultats de performance sous forme de graphiques et de tableaux.\n",
    "\n",
    "    Délai:\n",
    "        Le projet sera livré dans un délai de 4 semaines à compter de la date de démarrage."
   ]
  },
  {
   "cell_type": "code",
   "execution_count": 56,
   "id": "6d89226d",
   "metadata": {},
   "outputs": [
    {
     "name": "stdout",
     "output_type": "stream",
     "text": [
      "313/313 [==============================] - 1s 2ms/step\n"
     ]
    },
    {
     "data": {
      "text/plain": [
       "array([[1.3010341e-26, 2.8321282e-13, 0.0000000e+00, ..., 5.7296723e-02,\n",
       "        1.2462572e-11, 9.3160880e-01],\n",
       "       [3.8591444e-03, 2.1129877e-03, 7.2275305e-01, ..., 6.6453125e-26,\n",
       "        2.6260730e-04, 4.5493085e-18],\n",
       "       [9.2157488e-13, 1.0000000e+00, 3.8010863e-34, ..., 0.0000000e+00,\n",
       "        0.0000000e+00, 0.0000000e+00],\n",
       "       ...,\n",
       "       [9.5991592e-10, 0.0000000e+00, 1.2823623e-13, ..., 4.3593449e-35,\n",
       "        1.0000000e+00, 3.2397393e-27],\n",
       "       [3.8351693e-11, 9.9999988e-01, 1.5354677e-26, ..., 0.0000000e+00,\n",
       "        0.0000000e+00, 0.0000000e+00],\n",
       "       [2.7380071e-07, 4.8180167e-09, 1.7763508e-06, ..., 1.7746350e-01,\n",
       "        2.1878110e-01, 4.0528059e-04]], dtype=float32)"
      ]
     },
     "execution_count": 56,
     "metadata": {},
     "output_type": "execute_result"
    },
    {
     "data": {
      "image/png": "[encoded data removed]",
      "text/plain": [
       "<Figure size 1080x144 with 1 Axes>"
      ]
     },
     "metadata": {
      "needs_background": "light"
     },
     "output_type": "display_data"
    }
   ],
   "source": [
    "# build the model\n",
    "\n",
    "import tensorflow as tf\n",
    "from tensorflow.keras import datasets , layers , models\n",
    "import matplotlib.pyplot as plt\n",
    "import numpy as np \n",
    "from tensorflow.keras.datasets import fashion_mnist\n",
    "\n",
    "(x_train, y_train), (x_test, y_test) = fashion_mnist.load_data()\n",
    "classes = [\"T-shirt/top\" , \"Trouser\" , \"Pullover\" , \"Dress\" , \"Coat\" , \"Sandal\" , \"Shirt\" ,\"Sneaker\" , \"Bag\" ,\"Ankel boot\"]\n",
    "y_train = y_train.reshape(-1)\n",
    "def plot_sample(x , y , index):\n",
    "    plt.figure(figsize=(15,2))\n",
    "    plt.imshow(x[index])\n",
    "    plt.xlabel(classes[y[index]])\n",
    "plot_sample(x_train , y_train , 1)\n",
    "\n",
    "cnn =  models.Sequential([\n",
    "    \n",
    "   \n",
    "    layers.Flatten(),\n",
    "    layers.Dense(64 , activation = 'relu'),\n",
    "    layers.Dense(10 , activation = 'softmax')\n",
    "    \n",
    " ])\n",
    "\n",
    "cnn.compile(optimizer = 'adam' ,\n",
    "           loss = 'sparse_categorical_crossentropy',\n",
    "           metrics = ['accuracy'])\n",
    "\n",
    "cnn.fit(x_train , y_train , epochs = 10)\n",
    "cnn.evaluate(x_test , y_test)\n",
    "\n",
    "cnn.save('fashionmodel.h5')\n",
    "\n",
    "y_test = y_test.reshape(-1)\n",
    "plot_sample(x_test , y_test , 1)\n",
    "y_pred = cnn.predict(x_test)\n",
    "y_pred[10:]\n",
    "y_classes = [np.argmax(el) for el in y_pred]\n",
    "y_classes[:5]\n",
    "plot_sample(x_test , y_test , 2)\n",
    "classes[np.argmax(y_pred[2])]\n",
    "\n",
    "    "
   ]
  },
  {
   "cell_type": "code",
   "execution_count": null,
   "id": "a692a27e",
   "metadata": {},
   "outputs": [],
   "source": [
    "\n",
    "cnn= keras.models.load_model('fashionmodel.h5')\n",
    "\n",
    "\n",
    "\n",
    "y_test = y_test.reshape(-1)\n",
    "plot_sample(x_test , y_test , 1)\n",
    "y_pred = cnn.predict(x_test)\n",
    "\n",
    "plt.imshow(y_pred)\n"
   ]
  },
  {
   "cell_type": "code",
   "execution_count": 62,
   "id": "72094a1a",
   "metadata": {},
   "outputs": [],
   "source": [
    "y_test.shape\n",
    "y_classes = [np.argmax(el) for el in y_pred]"
   ]
  },
  {
   "cell_type": "code",
   "execution_count": 69,
   "id": "2e18ae7d",
   "metadata": {},
   "outputs": [
    {
     "name": "stdout",
     "output_type": "stream",
     "text": [
      "[[800   2 101  44   1   0  43   0   9   0]\n",
      " [  8 940   9  39   3   0   1   0   0   0]\n",
      " [ 10   0 933   9  39   0   9   0   0   0]\n",
      " [ 13   9  81 872   4   0  19   0   2   0]\n",
      " [  0   0 438  63 451   0  47   0   1   0]\n",
      " [  0   1   5   0   0 876   0  51  17  50]\n",
      " [149   0 417  30  43   0 343   0  18   0]\n",
      " [  0   0   0   0   0  12   0 946   4  38]\n",
      " [  0   0  57   6   1   1  21   2 912   0]\n",
      " [  0   0   1   1   0   3   0  47   1 947]]\n"
     ]
    },
    {
     "data": {
      "text/plain": [
       "0.802"
      ]
     },
     "execution_count": 69,
     "metadata": {},
     "output_type": "execute_result"
    }
   ],
   "source": [
    "y_classes = np.array(y_classes)\n",
    "\n",
    "from sklearn.metrics import confusion_matrix\n",
    "\n",
    "confusion = confusion_matrix(y_test, y_classes)\n",
    "print(confusion)\n",
    "classes = [\"T-shirt/top\" , \"Trouser\" , \"Pullover\" , \"Dress\" , \"Coat\" , \"Sandal\" , \"Shirt\" ,\"Sneaker\" , \"Bag\" ,\"Ankel boot\"]\n",
    "np.trace(confusion)/(np.sum(confusion))"
   ]
  },
  {
   "cell_type": "code",
   "execution_count": null,
   "id": "1edfa7d4",
   "metadata": {},
   "outputs": [],
   "source": []
  },
  {
   "cell_type": "code",
   "execution_count": 108,
   "id": "b17dba07",
   "metadata": {},
   "outputs": [
    {
     "name": "stdout",
     "output_type": "stream",
     "text": [
      "1/1 [==============================] - 0s 85ms/step\n"
     ]
    },
    {
     "data": {
      "image/png": "[encoded data removed]",
      "text/plain": [
       "<Figure size 1080x144 with 1 Axes>"
      ]
     },
     "metadata": {
      "needs_background": "light"
     },
     "output_type": "display_data"
    },
    {
     "data": {
      "image/png": "[encoded data removed]",
      "text/plain": [
       "<Figure size 1080x144 with 1 Axes>"
      ]
     },
     "metadata": {
      "needs_background": "light"
     },
     "output_type": "display_data"
    },
    {
     "data": {
      "image/png": "[encoded data removed]",
      "text/plain": [
       "<Figure size 1080x144 with 1 Axes>"
      ]
     },
     "metadata": {
      "needs_background": "light"
     },
     "output_type": "display_data"
    },
    {
     "data": {
      "image/png": "[encoded data removed]",
      "text/plain": [
       "<Figure size 1080x144 with 1 Axes>"
      ]
     },
     "metadata": {
      "needs_background": "light"
     },
     "output_type": "display_data"
    }
   ],
   "source": [
    "loaded_model = keras.models.load_model('fashionmodel.h5')\n",
    "\n",
    "\n",
    "\n",
    "# Make predictions on the new data using the loaded model\n",
    "\n",
    "\n",
    "def plot_sample(x , y , index):\n",
    "    plt.figure(figsize=(15,2))\n",
    "    plt.imshow(x[index])\n",
    "    plt.xlabel(classes[y[index]])\n",
    "\n",
    "y_test = y_test.reshape(-1)\n",
    "plot_sample(x_train , y_train , 1)\n",
    "\n",
    "\n",
    "\n",
    "# Select a single sample from the x_train dataset\n",
    "\n",
    "sample = x_train[1]\n",
    "\n",
    "# Add an extra dimension to the sample\n",
    "sample = np.expand_dims(sample, axis=0)\n",
    "\n",
    "# Make predictions on the sample using the loaded model\n",
    "y_pred= loaded_model.predict(sample)\n",
    "\n",
    "# Print the predictions\n",
    "\n",
    "\n",
    "y_classes = [np.argmax(el) for el in y_pred]\n",
    "plot_sample(sample , y_classes , 0)\n",
    "\n",
    "\n",
    "for i in range(2):\n",
    "    plot_sample(x_train , y_train , i)\n",
    "    \n",
    "\n",
    "\n"
   ]
  },
  {
   "cell_type": "code",
   "execution_count": 22,
   "id": "63706f60",
   "metadata": {},
   "outputs": [
    {
     "data": {
      "text/plain": [
       "<matplotlib.image.AxesImage at 0x7fbf8a952a60>"
      ]
     },
     "execution_count": 22,
     "metadata": {},
     "output_type": "execute_result"
    },
    {
     "data": {
      "image/png": "[encoded data removed]",
      "text/plain": [
       "<Figure size 432x288 with 1 Axes>"
      ]
     },
     "metadata": {
      "needs_background": "light"
     },
     "output_type": "display_data"
    }
   ],
   "source": [
    "\n",
    "\n",
    "import numpy as np\n",
    "from PIL import Image\n",
    "\n",
    "# Open the image in RGB mode and convert it to a NumPy array\n",
    "rgb_image = np.array(Image.open('imm.png').convert('RGB'))\n",
    "\n",
    "# Convert the image to grayscale using the average method\n",
    "grayscale_image = np.mean(rgb_image, axis=2).astype(np.uint8)\n",
    "\n",
    "# Convert the NumPy array back to an image and save it\n",
    "grayscale_image = Image.fromarray(grayscale_image)\n",
    "\n",
    "\n",
    "plt.imshow(grayscale_image)"
   ]
  },
  {
   "cell_type": "code",
   "execution_count": 43,
   "id": "56ebc617",
   "metadata": {},
   "outputs": [
    {
     "data": {
      "image/png": "[encoded data removed]",
      "text/plain": [
       "<Figure size 432x288 with 1 Axes>"
      ]
     },
     "metadata": {
      "needs_background": "light"
     },
     "output_type": "display_data"
    },
    {
     "ename": "NameError",
     "evalue": "name 'x_text' is not defined",
     "output_type": "error",
     "traceback": [
      "\u001b[0;31m---------------------------------------------------------------------------\u001b[0m",
      "\u001b[0;31mNameError\u001b[0m                                 Traceback (most recent call last)",
      "Input \u001b[0;32mIn [43]\u001b[0m, in \u001b[0;36m<cell line: 37>\u001b[0;34m()\u001b[0m\n\u001b[1;32m     34\u001b[0m plt\u001b[38;5;241m.\u001b[39mimshow(image_array, cmap\u001b[38;5;241m=\u001b[39m\u001b[38;5;124m'\u001b[39m\u001b[38;5;124mgray\u001b[39m\u001b[38;5;124m'\u001b[39m)\n\u001b[1;32m     35\u001b[0m plt\u001b[38;5;241m.\u001b[39mshow()\n\u001b[0;32m---> 37\u001b[0m y_pred \u001b[38;5;241m=\u001b[39m loaded_model\u001b[38;5;241m.\u001b[39mpredict(np\u001b[38;5;241m.\u001b[39mexpand_dims(\u001b[43mx_text\u001b[49m[\u001b[38;5;241m0\u001b[39m]))\n\u001b[1;32m     40\u001b[0m y_classes \u001b[38;5;241m=\u001b[39m [np\u001b[38;5;241m.\u001b[39margmax(el) \u001b[38;5;28;01mfor\u001b[39;00m el \u001b[38;5;129;01min\u001b[39;00m y_pred]\n\u001b[1;32m     42\u001b[0m \u001b[38;5;28mprint\u001b[39m(classes[y_classes[\u001b[38;5;241m0\u001b[39m]])\n",
      "\u001b[0;31mNameError\u001b[0m: name 'x_text' is not defined"
     ]
    }
   ],
   "source": [
    "loaded_model = keras.models.load_model('fashionmodel.h5')\n",
    "from PIL import Image\n",
    "import numpy as np\n",
    "from PIL import ImageOps\n",
    "\n",
    "# Load the image\n",
    "image = Image.open('f1.jpg')\n",
    "\n",
    "# Convert the image to grayscale\n",
    "image = image.convert('L')\n",
    "\n",
    "# Resize the image to 28x28 pixels\n",
    "image = image.resize((28, 28))\n",
    "\n",
    "# Invert the colors (if necessary)\n",
    "image = ImageOps.invert(image)\n",
    "\n",
    "# Convert the image to a numpy array\n",
    "image_array = np.array(image)\n",
    "\n",
    "# Flatten the image array\n",
    "image_array = image_array.flatten()\n",
    "\n",
    "# Reshape the image array to be 28x28 pixels\n",
    "image_array = image_array.reshape((28, 28))\n",
    "\n",
    "# Normalize the pixel values to be between 0 and 1\n",
    "image_array = image_array / 255.0\n",
    "\n",
    "# Convert the pixel values to integers between 0 and 255\n",
    "image_array = (image_array * 255).astype(np.uint8)\n",
    "\n",
    "# Display the image\n",
    "plt.imshow(image_array, cmap='gray')\n",
    "plt.show()\n",
    "\n",
    "y_pred = loaded_model.predict(np.expand_dims(x_text[0]))\n",
    "\n",
    "\n",
    "y_classes = [np.argmax(el) for el in y_pred]\n",
    "\n",
    "print(classes[y_classes[0]])"
   ]
  },
  {
   "cell_type": "code",
   "execution_count": 42,
   "id": "faa1e19d",
   "metadata": {},
   "outputs": [
    {
     "ename": "NameError",
     "evalue": "name 'image_2d' is not defined",
     "output_type": "error",
     "traceback": [
      "\u001b[0;31m---------------------------------------------------------------------------\u001b[0m",
      "\u001b[0;31mNameError\u001b[0m                                 Traceback (most recent call last)",
      "Input \u001b[0;32mIn [42]\u001b[0m, in \u001b[0;36m<cell line: 1>\u001b[0;34m()\u001b[0m\n\u001b[0;32m----> 1\u001b[0m image_2d[:,:,\u001b[38;5;241m1\u001b[39m] \u001b[38;5;241m=\u001b[39m \u001b[43mimage_2d\u001b[49m[:,:,\u001b[38;5;241m1\u001b[39m]\u001b[38;5;241m*\u001b[39m\u001b[38;5;241m255\u001b[39m\n\u001b[1;32m      3\u001b[0m image_2d[:,:,\u001b[38;5;241m1\u001b[39m][ \u001b[38;5;241m253\u001b[39m \u001b[38;5;241m<\u001b[39m image_2d[:,:,\u001b[38;5;241m1\u001b[39m] ]\u001b[38;5;241m=\u001b[39m\u001b[38;5;241m0\u001b[39m\n\u001b[1;32m      6\u001b[0m y_pred \u001b[38;5;241m=\u001b[39m loaded_model\u001b[38;5;241m.\u001b[39mpredict( image_2d[:,:,\u001b[38;5;241m1\u001b[39m])\n",
      "\u001b[0;31mNameError\u001b[0m: name 'image_2d' is not defined"
     ]
    }
   ],
   "source": [
    "image_2d[:,:,1] = image_2d[:,:,1]*255\n",
    "\n",
    "image_2d[:,:,1][ 253 < image_2d[:,:,1] ]=0\n",
    "\n",
    "\n",
    "y_pred = loaded_model.predict( image_2d[:,:,1])\n",
    "\n",
    "\n",
    "y_classes = [np.argmax(el) for el in y_pred]\n",
    "\n",
    "\n",
    "\n",
    "\n",
    "\n",
    "\n",
    "plt.imshow( image_2d[:,:,1])\n",
    "print(classes[y_classes[0]])\n"
   ]
  },
  {
   "cell_type": "code",
   "execution_count": 34,
   "id": "59b550a3",
   "metadata": {},
   "outputs": [
    {
     "name": "stdout",
     "output_type": "stream",
     "text": [
      "1/1 [==============================] - 0s 28ms/step\n"
     ]
    },
    {
     "name": "stderr",
     "output_type": "stream",
     "text": [
      "Clipping input data to the valid range for imshow with RGB data ([0..1] for floats or [0..255] for integers).\n"
     ]
    },
    {
     "name": "stdout",
     "output_type": "stream",
     "text": [
      "T-shirt/top\n"
     ]
    },
    {
     "data": {
      "image/png": "[encoded data removed]",
      "text/plain": [
       "<Figure size 432x288 with 1 Axes>"
      ]
     },
     "metadata": {
      "needs_background": "light"
     },
     "output_type": "display_data"
    }
   ],
   "source": [
    "y_pred = loaded_model.predict(image_2d)\n",
    "\n",
    "\n",
    "y_classes = [np.argmax(el) for el in y_pred]\n",
    "\n",
    "plt.imshow(image_2d)\n",
    "\n",
    "print(classes[y_classes[0]])"
   ]
  },
  {
   "cell_type": "code",
   "execution_count": 35,
   "id": "b9b758a6",
   "metadata": {},
   "outputs": [
    {
     "ename": "TypeError",
     "evalue": "Invalid shape (1, 300, 330, 4) for image data",
     "output_type": "error",
     "traceback": [
      "\u001b[0;31m---------------------------------------------------------------------------\u001b[0m",
      "\u001b[0;31mTypeError\u001b[0m                                 Traceback (most recent call last)",
      "Input \u001b[0;32mIn [35]\u001b[0m, in \u001b[0;36m<cell line: 8>\u001b[0;34m()\u001b[0m\n\u001b[1;32m      3\u001b[0m \u001b[38;5;66;03m# Reshape the image data so that it's suitable for the model\u001b[39;00m\n\u001b[1;32m      4\u001b[0m single_image \u001b[38;5;241m=\u001b[39m single_image\u001b[38;5;241m.\u001b[39mreshape(\u001b[38;5;241m1\u001b[39m, \u001b[38;5;241m*\u001b[39msingle_image\u001b[38;5;241m.\u001b[39mshape)\n\u001b[0;32m----> 8\u001b[0m \u001b[43mplt\u001b[49m\u001b[38;5;241;43m.\u001b[39;49m\u001b[43mimshow\u001b[49m\u001b[43m(\u001b[49m\u001b[43msingle_image\u001b[49m\u001b[43m)\u001b[49m\n",
      "File \u001b[0;32m/opt/anaconda3/lib/python3.9/site-packages/matplotlib/_api/deprecation.py:456\u001b[0m, in \u001b[0;36mmake_keyword_only.<locals>.wrapper\u001b[0;34m(*args, **kwargs)\u001b[0m\n\u001b[1;32m    450\u001b[0m \u001b[38;5;28;01mif\u001b[39;00m \u001b[38;5;28mlen\u001b[39m(args) \u001b[38;5;241m>\u001b[39m name_idx:\n\u001b[1;32m    451\u001b[0m     warn_deprecated(\n\u001b[1;32m    452\u001b[0m         since, message\u001b[38;5;241m=\u001b[39m\u001b[38;5;124m\"\u001b[39m\u001b[38;5;124mPassing the \u001b[39m\u001b[38;5;132;01m%(name)s\u001b[39;00m\u001b[38;5;124m \u001b[39m\u001b[38;5;132;01m%(obj_type)s\u001b[39;00m\u001b[38;5;124m \u001b[39m\u001b[38;5;124m\"\u001b[39m\n\u001b[1;32m    453\u001b[0m         \u001b[38;5;124m\"\u001b[39m\u001b[38;5;124mpositionally is deprecated since Matplotlib \u001b[39m\u001b[38;5;132;01m%(since)s\u001b[39;00m\u001b[38;5;124m; the \u001b[39m\u001b[38;5;124m\"\u001b[39m\n\u001b[1;32m    454\u001b[0m         \u001b[38;5;124m\"\u001b[39m\u001b[38;5;124mparameter will become keyword-only \u001b[39m\u001b[38;5;132;01m%(removal)s\u001b[39;00m\u001b[38;5;124m.\u001b[39m\u001b[38;5;124m\"\u001b[39m,\n\u001b[1;32m    455\u001b[0m         name\u001b[38;5;241m=\u001b[39mname, obj_type\u001b[38;5;241m=\u001b[39m\u001b[38;5;124mf\u001b[39m\u001b[38;5;124m\"\u001b[39m\u001b[38;5;124mparameter of \u001b[39m\u001b[38;5;132;01m{\u001b[39;00mfunc\u001b[38;5;241m.\u001b[39m\u001b[38;5;18m__name__\u001b[39m\u001b[38;5;132;01m}\u001b[39;00m\u001b[38;5;124m()\u001b[39m\u001b[38;5;124m\"\u001b[39m)\n\u001b[0;32m--> 456\u001b[0m \u001b[38;5;28;01mreturn\u001b[39;00m \u001b[43mfunc\u001b[49m\u001b[43m(\u001b[49m\u001b[38;5;241;43m*\u001b[39;49m\u001b[43margs\u001b[49m\u001b[43m,\u001b[49m\u001b[43m \u001b[49m\u001b[38;5;241;43m*\u001b[39;49m\u001b[38;5;241;43m*\u001b[39;49m\u001b[43mkwargs\u001b[49m\u001b[43m)\u001b[49m\n",
      "File \u001b[0;32m/opt/anaconda3/lib/python3.9/site-packages/matplotlib/pyplot.py:2640\u001b[0m, in \u001b[0;36mimshow\u001b[0;34m(X, cmap, norm, aspect, interpolation, alpha, vmin, vmax, origin, extent, interpolation_stage, filternorm, filterrad, resample, url, data, **kwargs)\u001b[0m\n\u001b[1;32m   2634\u001b[0m \u001b[38;5;129m@_copy_docstring_and_deprecators\u001b[39m(Axes\u001b[38;5;241m.\u001b[39mimshow)\n\u001b[1;32m   2635\u001b[0m \u001b[38;5;28;01mdef\u001b[39;00m \u001b[38;5;21mimshow\u001b[39m(\n\u001b[1;32m   2636\u001b[0m         X, cmap\u001b[38;5;241m=\u001b[39m\u001b[38;5;28;01mNone\u001b[39;00m, norm\u001b[38;5;241m=\u001b[39m\u001b[38;5;28;01mNone\u001b[39;00m, aspect\u001b[38;5;241m=\u001b[39m\u001b[38;5;28;01mNone\u001b[39;00m, interpolation\u001b[38;5;241m=\u001b[39m\u001b[38;5;28;01mNone\u001b[39;00m,\n\u001b[1;32m   2637\u001b[0m         alpha\u001b[38;5;241m=\u001b[39m\u001b[38;5;28;01mNone\u001b[39;00m, vmin\u001b[38;5;241m=\u001b[39m\u001b[38;5;28;01mNone\u001b[39;00m, vmax\u001b[38;5;241m=\u001b[39m\u001b[38;5;28;01mNone\u001b[39;00m, origin\u001b[38;5;241m=\u001b[39m\u001b[38;5;28;01mNone\u001b[39;00m, extent\u001b[38;5;241m=\u001b[39m\u001b[38;5;28;01mNone\u001b[39;00m, \u001b[38;5;241m*\u001b[39m,\n\u001b[1;32m   2638\u001b[0m         interpolation_stage\u001b[38;5;241m=\u001b[39m\u001b[38;5;28;01mNone\u001b[39;00m, filternorm\u001b[38;5;241m=\u001b[39m\u001b[38;5;28;01mTrue\u001b[39;00m, filterrad\u001b[38;5;241m=\u001b[39m\u001b[38;5;241m4.0\u001b[39m,\n\u001b[1;32m   2639\u001b[0m         resample\u001b[38;5;241m=\u001b[39m\u001b[38;5;28;01mNone\u001b[39;00m, url\u001b[38;5;241m=\u001b[39m\u001b[38;5;28;01mNone\u001b[39;00m, data\u001b[38;5;241m=\u001b[39m\u001b[38;5;28;01mNone\u001b[39;00m, \u001b[38;5;241m*\u001b[39m\u001b[38;5;241m*\u001b[39mkwargs):\n\u001b[0;32m-> 2640\u001b[0m     __ret \u001b[38;5;241m=\u001b[39m \u001b[43mgca\u001b[49m\u001b[43m(\u001b[49m\u001b[43m)\u001b[49m\u001b[38;5;241;43m.\u001b[39;49m\u001b[43mimshow\u001b[49m\u001b[43m(\u001b[49m\n\u001b[1;32m   2641\u001b[0m \u001b[43m        \u001b[49m\u001b[43mX\u001b[49m\u001b[43m,\u001b[49m\u001b[43m \u001b[49m\u001b[43mcmap\u001b[49m\u001b[38;5;241;43m=\u001b[39;49m\u001b[43mcmap\u001b[49m\u001b[43m,\u001b[49m\u001b[43m \u001b[49m\u001b[43mnorm\u001b[49m\u001b[38;5;241;43m=\u001b[39;49m\u001b[43mnorm\u001b[49m\u001b[43m,\u001b[49m\u001b[43m \u001b[49m\u001b[43maspect\u001b[49m\u001b[38;5;241;43m=\u001b[39;49m\u001b[43maspect\u001b[49m\u001b[43m,\u001b[49m\n\u001b[1;32m   2642\u001b[0m \u001b[43m        \u001b[49m\u001b[43minterpolation\u001b[49m\u001b[38;5;241;43m=\u001b[39;49m\u001b[43minterpolation\u001b[49m\u001b[43m,\u001b[49m\u001b[43m \u001b[49m\u001b[43malpha\u001b[49m\u001b[38;5;241;43m=\u001b[39;49m\u001b[43malpha\u001b[49m\u001b[43m,\u001b[49m\u001b[43m \u001b[49m\u001b[43mvmin\u001b[49m\u001b[38;5;241;43m=\u001b[39;49m\u001b[43mvmin\u001b[49m\u001b[43m,\u001b[49m\n\u001b[1;32m   2643\u001b[0m \u001b[43m        \u001b[49m\u001b[43mvmax\u001b[49m\u001b[38;5;241;43m=\u001b[39;49m\u001b[43mvmax\u001b[49m\u001b[43m,\u001b[49m\u001b[43m \u001b[49m\u001b[43morigin\u001b[49m\u001b[38;5;241;43m=\u001b[39;49m\u001b[43morigin\u001b[49m\u001b[43m,\u001b[49m\u001b[43m \u001b[49m\u001b[43mextent\u001b[49m\u001b[38;5;241;43m=\u001b[39;49m\u001b[43mextent\u001b[49m\u001b[43m,\u001b[49m\n\u001b[1;32m   2644\u001b[0m \u001b[43m        \u001b[49m\u001b[43minterpolation_stage\u001b[49m\u001b[38;5;241;43m=\u001b[39;49m\u001b[43minterpolation_stage\u001b[49m\u001b[43m,\u001b[49m\n\u001b[1;32m   2645\u001b[0m \u001b[43m        \u001b[49m\u001b[43mfilternorm\u001b[49m\u001b[38;5;241;43m=\u001b[39;49m\u001b[43mfilternorm\u001b[49m\u001b[43m,\u001b[49m\u001b[43m \u001b[49m\u001b[43mfilterrad\u001b[49m\u001b[38;5;241;43m=\u001b[39;49m\u001b[43mfilterrad\u001b[49m\u001b[43m,\u001b[49m\u001b[43m \u001b[49m\u001b[43mresample\u001b[49m\u001b[38;5;241;43m=\u001b[39;49m\u001b[43mresample\u001b[49m\u001b[43m,\u001b[49m\n\u001b[1;32m   2646\u001b[0m \u001b[43m        \u001b[49m\u001b[43murl\u001b[49m\u001b[38;5;241;43m=\u001b[39;49m\u001b[43murl\u001b[49m\u001b[43m,\u001b[49m\u001b[43m \u001b[49m\u001b[38;5;241;43m*\u001b[39;49m\u001b[38;5;241;43m*\u001b[39;49m\u001b[43m(\u001b[49m\u001b[43m{\u001b[49m\u001b[38;5;124;43m\"\u001b[39;49m\u001b[38;5;124;43mdata\u001b[39;49m\u001b[38;5;124;43m\"\u001b[39;49m\u001b[43m:\u001b[49m\u001b[43m \u001b[49m\u001b[43mdata\u001b[49m\u001b[43m}\u001b[49m\u001b[43m \u001b[49m\u001b[38;5;28;43;01mif\u001b[39;49;00m\u001b[43m \u001b[49m\u001b[43mdata\u001b[49m\u001b[43m \u001b[49m\u001b[38;5;129;43;01mis\u001b[39;49;00m\u001b[43m \u001b[49m\u001b[38;5;129;43;01mnot\u001b[39;49;00m\u001b[43m \u001b[49m\u001b[38;5;28;43;01mNone\u001b[39;49;00m\u001b[43m \u001b[49m\u001b[38;5;28;43;01melse\u001b[39;49;00m\u001b[43m \u001b[49m\u001b[43m{\u001b[49m\u001b[43m}\u001b[49m\u001b[43m)\u001b[49m\u001b[43m,\u001b[49m\n\u001b[1;32m   2647\u001b[0m \u001b[43m        \u001b[49m\u001b[38;5;241;43m*\u001b[39;49m\u001b[38;5;241;43m*\u001b[39;49m\u001b[43mkwargs\u001b[49m\u001b[43m)\u001b[49m\n\u001b[1;32m   2648\u001b[0m     sci(__ret)\n\u001b[1;32m   2649\u001b[0m     \u001b[38;5;28;01mreturn\u001b[39;00m __ret\n",
      "File \u001b[0;32m/opt/anaconda3/lib/python3.9/site-packages/matplotlib/_api/deprecation.py:456\u001b[0m, in \u001b[0;36mmake_keyword_only.<locals>.wrapper\u001b[0;34m(*args, **kwargs)\u001b[0m\n\u001b[1;32m    450\u001b[0m \u001b[38;5;28;01mif\u001b[39;00m \u001b[38;5;28mlen\u001b[39m(args) \u001b[38;5;241m>\u001b[39m name_idx:\n\u001b[1;32m    451\u001b[0m     warn_deprecated(\n\u001b[1;32m    452\u001b[0m         since, message\u001b[38;5;241m=\u001b[39m\u001b[38;5;124m\"\u001b[39m\u001b[38;5;124mPassing the \u001b[39m\u001b[38;5;132;01m%(name)s\u001b[39;00m\u001b[38;5;124m \u001b[39m\u001b[38;5;132;01m%(obj_type)s\u001b[39;00m\u001b[38;5;124m \u001b[39m\u001b[38;5;124m\"\u001b[39m\n\u001b[1;32m    453\u001b[0m         \u001b[38;5;124m\"\u001b[39m\u001b[38;5;124mpositionally is deprecated since Matplotlib \u001b[39m\u001b[38;5;132;01m%(since)s\u001b[39;00m\u001b[38;5;124m; the \u001b[39m\u001b[38;5;124m\"\u001b[39m\n\u001b[1;32m    454\u001b[0m         \u001b[38;5;124m\"\u001b[39m\u001b[38;5;124mparameter will become keyword-only \u001b[39m\u001b[38;5;132;01m%(removal)s\u001b[39;00m\u001b[38;5;124m.\u001b[39m\u001b[38;5;124m\"\u001b[39m,\n\u001b[1;32m    455\u001b[0m         name\u001b[38;5;241m=\u001b[39mname, obj_type\u001b[38;5;241m=\u001b[39m\u001b[38;5;124mf\u001b[39m\u001b[38;5;124m\"\u001b[39m\u001b[38;5;124mparameter of \u001b[39m\u001b[38;5;132;01m{\u001b[39;00mfunc\u001b[38;5;241m.\u001b[39m\u001b[38;5;18m__name__\u001b[39m\u001b[38;5;132;01m}\u001b[39;00m\u001b[38;5;124m()\u001b[39m\u001b[38;5;124m\"\u001b[39m)\n\u001b[0;32m--> 456\u001b[0m \u001b[38;5;28;01mreturn\u001b[39;00m \u001b[43mfunc\u001b[49m\u001b[43m(\u001b[49m\u001b[38;5;241;43m*\u001b[39;49m\u001b[43margs\u001b[49m\u001b[43m,\u001b[49m\u001b[43m \u001b[49m\u001b[38;5;241;43m*\u001b[39;49m\u001b[38;5;241;43m*\u001b[39;49m\u001b[43mkwargs\u001b[49m\u001b[43m)\u001b[49m\n",
      "File \u001b[0;32m/opt/anaconda3/lib/python3.9/site-packages/matplotlib/__init__.py:1412\u001b[0m, in \u001b[0;36m_preprocess_data.<locals>.inner\u001b[0;34m(ax, data, *args, **kwargs)\u001b[0m\n\u001b[1;32m   1409\u001b[0m \u001b[38;5;129m@functools\u001b[39m\u001b[38;5;241m.\u001b[39mwraps(func)\n\u001b[1;32m   1410\u001b[0m \u001b[38;5;28;01mdef\u001b[39;00m \u001b[38;5;21minner\u001b[39m(ax, \u001b[38;5;241m*\u001b[39margs, data\u001b[38;5;241m=\u001b[39m\u001b[38;5;28;01mNone\u001b[39;00m, \u001b[38;5;241m*\u001b[39m\u001b[38;5;241m*\u001b[39mkwargs):\n\u001b[1;32m   1411\u001b[0m     \u001b[38;5;28;01mif\u001b[39;00m data \u001b[38;5;129;01mis\u001b[39;00m \u001b[38;5;28;01mNone\u001b[39;00m:\n\u001b[0;32m-> 1412\u001b[0m         \u001b[38;5;28;01mreturn\u001b[39;00m \u001b[43mfunc\u001b[49m\u001b[43m(\u001b[49m\u001b[43max\u001b[49m\u001b[43m,\u001b[49m\u001b[43m \u001b[49m\u001b[38;5;241;43m*\u001b[39;49m\u001b[38;5;28;43mmap\u001b[39;49m\u001b[43m(\u001b[49m\u001b[43msanitize_sequence\u001b[49m\u001b[43m,\u001b[49m\u001b[43m \u001b[49m\u001b[43margs\u001b[49m\u001b[43m)\u001b[49m\u001b[43m,\u001b[49m\u001b[43m \u001b[49m\u001b[38;5;241;43m*\u001b[39;49m\u001b[38;5;241;43m*\u001b[39;49m\u001b[43mkwargs\u001b[49m\u001b[43m)\u001b[49m\n\u001b[1;32m   1414\u001b[0m     bound \u001b[38;5;241m=\u001b[39m new_sig\u001b[38;5;241m.\u001b[39mbind(ax, \u001b[38;5;241m*\u001b[39margs, \u001b[38;5;241m*\u001b[39m\u001b[38;5;241m*\u001b[39mkwargs)\n\u001b[1;32m   1415\u001b[0m     auto_label \u001b[38;5;241m=\u001b[39m (bound\u001b[38;5;241m.\u001b[39marguments\u001b[38;5;241m.\u001b[39mget(label_namer)\n\u001b[1;32m   1416\u001b[0m                   \u001b[38;5;129;01mor\u001b[39;00m bound\u001b[38;5;241m.\u001b[39mkwargs\u001b[38;5;241m.\u001b[39mget(label_namer))\n",
      "File \u001b[0;32m/opt/anaconda3/lib/python3.9/site-packages/matplotlib/axes/_axes.py:5488\u001b[0m, in \u001b[0;36mAxes.imshow\u001b[0;34m(self, X, cmap, norm, aspect, interpolation, alpha, vmin, vmax, origin, extent, interpolation_stage, filternorm, filterrad, resample, url, **kwargs)\u001b[0m\n\u001b[1;32m   5481\u001b[0m \u001b[38;5;28mself\u001b[39m\u001b[38;5;241m.\u001b[39mset_aspect(aspect)\n\u001b[1;32m   5482\u001b[0m im \u001b[38;5;241m=\u001b[39m mimage\u001b[38;5;241m.\u001b[39mAxesImage(\u001b[38;5;28mself\u001b[39m, cmap, norm, interpolation,\n\u001b[1;32m   5483\u001b[0m                       origin, extent, filternorm\u001b[38;5;241m=\u001b[39mfilternorm,\n\u001b[1;32m   5484\u001b[0m                       filterrad\u001b[38;5;241m=\u001b[39mfilterrad, resample\u001b[38;5;241m=\u001b[39mresample,\n\u001b[1;32m   5485\u001b[0m                       interpolation_stage\u001b[38;5;241m=\u001b[39minterpolation_stage,\n\u001b[1;32m   5486\u001b[0m                       \u001b[38;5;241m*\u001b[39m\u001b[38;5;241m*\u001b[39mkwargs)\n\u001b[0;32m-> 5488\u001b[0m \u001b[43mim\u001b[49m\u001b[38;5;241;43m.\u001b[39;49m\u001b[43mset_data\u001b[49m\u001b[43m(\u001b[49m\u001b[43mX\u001b[49m\u001b[43m)\u001b[49m\n\u001b[1;32m   5489\u001b[0m im\u001b[38;5;241m.\u001b[39mset_alpha(alpha)\n\u001b[1;32m   5490\u001b[0m \u001b[38;5;28;01mif\u001b[39;00m im\u001b[38;5;241m.\u001b[39mget_clip_path() \u001b[38;5;129;01mis\u001b[39;00m \u001b[38;5;28;01mNone\u001b[39;00m:\n\u001b[1;32m   5491\u001b[0m     \u001b[38;5;66;03m# image does not already have clipping set, clip to axes patch\u001b[39;00m\n",
      "File \u001b[0;32m/opt/anaconda3/lib/python3.9/site-packages/matplotlib/image.py:715\u001b[0m, in \u001b[0;36m_ImageBase.set_data\u001b[0;34m(self, A)\u001b[0m\n\u001b[1;32m    711\u001b[0m     \u001b[38;5;28mself\u001b[39m\u001b[38;5;241m.\u001b[39m_A \u001b[38;5;241m=\u001b[39m \u001b[38;5;28mself\u001b[39m\u001b[38;5;241m.\u001b[39m_A[:, :, \u001b[38;5;241m0\u001b[39m]\n\u001b[1;32m    713\u001b[0m \u001b[38;5;28;01mif\u001b[39;00m \u001b[38;5;129;01mnot\u001b[39;00m (\u001b[38;5;28mself\u001b[39m\u001b[38;5;241m.\u001b[39m_A\u001b[38;5;241m.\u001b[39mndim \u001b[38;5;241m==\u001b[39m \u001b[38;5;241m2\u001b[39m\n\u001b[1;32m    714\u001b[0m         \u001b[38;5;129;01mor\u001b[39;00m \u001b[38;5;28mself\u001b[39m\u001b[38;5;241m.\u001b[39m_A\u001b[38;5;241m.\u001b[39mndim \u001b[38;5;241m==\u001b[39m \u001b[38;5;241m3\u001b[39m \u001b[38;5;129;01mand\u001b[39;00m \u001b[38;5;28mself\u001b[39m\u001b[38;5;241m.\u001b[39m_A\u001b[38;5;241m.\u001b[39mshape[\u001b[38;5;241m-\u001b[39m\u001b[38;5;241m1\u001b[39m] \u001b[38;5;129;01min\u001b[39;00m [\u001b[38;5;241m3\u001b[39m, \u001b[38;5;241m4\u001b[39m]):\n\u001b[0;32m--> 715\u001b[0m     \u001b[38;5;28;01mraise\u001b[39;00m \u001b[38;5;167;01mTypeError\u001b[39;00m(\u001b[38;5;124m\"\u001b[39m\u001b[38;5;124mInvalid shape \u001b[39m\u001b[38;5;132;01m{}\u001b[39;00m\u001b[38;5;124m for image data\u001b[39m\u001b[38;5;124m\"\u001b[39m\n\u001b[1;32m    716\u001b[0m                     \u001b[38;5;241m.\u001b[39mformat(\u001b[38;5;28mself\u001b[39m\u001b[38;5;241m.\u001b[39m_A\u001b[38;5;241m.\u001b[39mshape))\n\u001b[1;32m    718\u001b[0m \u001b[38;5;28;01mif\u001b[39;00m \u001b[38;5;28mself\u001b[39m\u001b[38;5;241m.\u001b[39m_A\u001b[38;5;241m.\u001b[39mndim \u001b[38;5;241m==\u001b[39m \u001b[38;5;241m3\u001b[39m:\n\u001b[1;32m    719\u001b[0m     \u001b[38;5;66;03m# If the input data has values outside the valid range (after\u001b[39;00m\n\u001b[1;32m    720\u001b[0m     \u001b[38;5;66;03m# normalisation), we issue a warning and then clip X to the bounds\u001b[39;00m\n\u001b[1;32m    721\u001b[0m     \u001b[38;5;66;03m# - otherwise casting wraps extreme values, hiding outliers and\u001b[39;00m\n\u001b[1;32m    722\u001b[0m     \u001b[38;5;66;03m# making reliable interpretation impossible.\u001b[39;00m\n\u001b[1;32m    723\u001b[0m     high \u001b[38;5;241m=\u001b[39m \u001b[38;5;241m255\u001b[39m \u001b[38;5;28;01mif\u001b[39;00m np\u001b[38;5;241m.\u001b[39missubdtype(\u001b[38;5;28mself\u001b[39m\u001b[38;5;241m.\u001b[39m_A\u001b[38;5;241m.\u001b[39mdtype, np\u001b[38;5;241m.\u001b[39minteger) \u001b[38;5;28;01melse\u001b[39;00m \u001b[38;5;241m1\u001b[39m\n",
      "\u001b[0;31mTypeError\u001b[0m: Invalid shape (1, 300, 330, 4) for image data"
     ]
    },
    {
     "data": {
      "image/png": "[encoded data removed]",
      "text/plain": [
       "<Figure size 432x288 with 1 Axes>"
      ]
     },
     "metadata": {
      "needs_background": "light"
     },
     "output_type": "display_data"
    }
   ],
   "source": [
    "\n",
    "single_image=plt.imread(\"imm.png\")\n",
    "\n",
    "# Reshape the image data so that it's suitable for the model\n",
    "single_image = single_image.reshape(1, *single_image.shape)\n",
    "\n",
    "\n",
    "\n",
    "plt.imshow(single_image)\n"
   ]
  },
  {
   "cell_type": "code",
   "execution_count": 36,
   "id": "773a2de0",
   "metadata": {},
   "outputs": [
    {
     "name": "stdout",
     "output_type": "stream",
     "text": [
      "(300, 330, 4)\n",
      "(28, 28)\n",
      "1/1 [==============================] - 0s 25ms/step\n"
     ]
    },
    {
     "ename": "NameError",
     "evalue": "name 'plot_sample' is not defined",
     "output_type": "error",
     "traceback": [
      "\u001b[0;31m---------------------------------------------------------------------------\u001b[0m",
      "\u001b[0;31mNameError\u001b[0m                                 Traceback (most recent call last)",
      "Input \u001b[0;32mIn [36]\u001b[0m, in \u001b[0;36m<cell line: 20>\u001b[0;34m()\u001b[0m\n\u001b[1;32m     16\u001b[0m \u001b[38;5;66;03m# Print the predictions\u001b[39;00m\n\u001b[1;32m     19\u001b[0m y_classes \u001b[38;5;241m=\u001b[39m [np\u001b[38;5;241m.\u001b[39margmax(el) \u001b[38;5;28;01mfor\u001b[39;00m el \u001b[38;5;129;01min\u001b[39;00m y_pred]\n\u001b[0;32m---> 20\u001b[0m \u001b[43mplot_sample\u001b[49m(image_2d , y_classes , \u001b[38;5;241m0\u001b[39m)\n\u001b[1;32m     23\u001b[0m plt\u001b[38;5;241m.\u001b[39mimshow(single_image)\n",
      "\u001b[0;31mNameError\u001b[0m: name 'plot_sample' is not defined"
     ]
    }
   ],
   "source": [
    "import cv2\n",
    "single_image=plt.imread(\"imm.png\")\n",
    "single_image=single_image\n",
    "print(single_image.shape)\n",
    "\n",
    "\n",
    "image_2d = cv2.resize(single_image, (28, 28), interpolation=cv2.INTER_AREA)\n",
    "\n",
    "print(image_2d[ : , : ,1].shape)\n",
    "\n",
    "\n",
    "\n",
    "\n",
    "y_pred= loaded_model.predict(image_2d)\n",
    "\n",
    "# Print the predictions\n",
    "\n",
    "\n",
    "y_classes = [np.argmax(el) for el in y_pred]\n",
    "plot_sample(image_2d , y_classes , 0)\n",
    "\n",
    "\n",
    "plt.imshow(single_image)"
   ]
  },
  {
   "cell_type": "code",
   "execution_count": 37,
   "id": "09d59d0a",
   "metadata": {},
   "outputs": [
    {
     "name": "stdout",
     "output_type": "stream",
     "text": [
      "(28, 28)\n"
     ]
    }
   ],
   "source": [
    "import cv2\n",
    "import numpy as np\n",
    "\n",
    "\n",
    "image_3d = single_image.reshape(300, 330, 4)\n",
    "\n",
    "# Resize the image tensor to shape (28, 28)\n",
    "image_2d = cv2.resize(image_3d, (28, 28), interpolation=cv2.INTER_AREA)\n",
    "print(image_2d[ : , : ,1].shape)\n",
    "\n"
   ]
  },
  {
   "cell_type": "code",
   "execution_count": 38,
   "id": "3409154a",
   "metadata": {},
   "outputs": [
    {
     "data": {
      "text/plain": [
       "(28, 28, 1)"
      ]
     },
     "execution_count": 38,
     "metadata": {},
     "output_type": "execute_result"
    },
    {
     "data": {
      "image/png": "[encoded data removed]",
      "text/plain": [
       "<Figure size 432x288 with 1 Axes>"
      ]
     },
     "metadata": {
      "needs_background": "light"
     },
     "output_type": "display_data"
    }
   ],
   "source": [
    "plt.imshow(image_2d[ : , : ,1])\n",
    "x_test[0].shape"
   ]
  },
  {
   "cell_type": "code",
   "execution_count": 39,
   "id": "c26a3fbc",
   "metadata": {},
   "outputs": [
    {
     "name": "stdout",
     "output_type": "stream",
     "text": [
      "1/1 [==============================] - 0s 59ms/step\n",
      "4\n",
      "Coat\n",
      "[4]\n"
     ]
    },
    {
     "data": {
      "text/plain": [
       "<matplotlib.image.AxesImage at 0x7ff05e06fd90>"
      ]
     },
     "execution_count": 39,
     "metadata": {},
     "output_type": "execute_result"
    },
    {
     "data": {
      "image/png": "[encoded data removed]",
      "text/plain": [
       "<Figure size 432x288 with 1 Axes>"
      ]
     },
     "metadata": {
      "needs_background": "light"
     },
     "output_type": "display_data"
    }
   ],
   "source": [
    "loaded_model = keras.models.load_model('fashionmodel.h5')\n",
    "classes = [\"T-shirt/top\" , \"Trouser\" , \"Pullover\" , \"Dress\" , \"Coat\" , \"Sandal\" , \"Shirt\" ,\"Sneaker\" , \"Bag\" ,\"Ankel boot\"]\n",
    "\n",
    "y_pred = loaded_model.predict( image_2d[ : , : ,1].reshape(1, *image_2d[ : , : ,1].shape))\n",
    "\n",
    "print(np.argmax(y_pred))\n",
    "print(classes[np.argmax(y_pred[0])])\n",
    "y_classes = [np.argmax(el) for el in y_pred]\n",
    "print(y_classes)\n",
    "\n",
    "plt.imshow(image_2d[ : , : ,1])\n",
    "\n",
    "\n",
    "\n"
   ]
  },
  {
   "cell_type": "code",
   "execution_count": 9,
   "id": "b57241d7",
   "metadata": {},
   "outputs": [],
   "source": [
    "# load and prepare the image\n",
    "def load_image(filename):\n",
    " # load the image\n",
    " img = load_img(filename, grayscale=True, target_size=(28, 28))\n",
    " # convert to array\n",
    " img = img_to_array(img)\n",
    " # reshape into a single sample with 1 channel\n",
    " img = img.reshape(1, 28, 28, 1)\n",
    " # prepare pixel data\n",
    " img = img.astype('float32')\n",
    " img = img / 255.0\n",
    " return img"
   ]
  },
  {
   "cell_type": "code",
   "execution_count": 10,
   "id": "e19f3da4",
   "metadata": {},
   "outputs": [
    {
     "ename": "NameError",
     "evalue": "name 'model' is not defined",
     "output_type": "error",
     "traceback": [
      "\u001b[0;31m---------------------------------------------------------------------------\u001b[0m",
      "\u001b[0;31mNameError\u001b[0m                                 Traceback (most recent call last)",
      "Input \u001b[0;32mIn [10]\u001b[0m, in \u001b[0;36m<cell line: 2>\u001b[0;34m()\u001b[0m\n\u001b[1;32m      1\u001b[0m \u001b[38;5;66;03m# predict the class\u001b[39;00m\n\u001b[0;32m----> 2\u001b[0m result \u001b[38;5;241m=\u001b[39m \u001b[43mmodel\u001b[49m\u001b[38;5;241m.\u001b[39mpredict_classes(img)\n",
      "\u001b[0;31mNameError\u001b[0m: name 'model' is not defined"
     ]
    }
   ],
   "source": [
    "\n",
    "# predict the class\n",
    "result = model.predict_classes(img)"
   ]
  },
  {
   "cell_type": "code",
   "execution_count": 15,
   "id": "d73eff1b",
   "metadata": {},
   "outputs": [
    {
     "ename": "ImportError",
     "evalue": "cannot import name 'img_to_array' from 'keras.preprocessing.image' (/opt/anaconda3/lib/python3.9/site-packages/keras/preprocessing/image.py)",
     "output_type": "error",
     "traceback": [
      "\u001b[0;31m---------------------------------------------------------------------------\u001b[0m",
      "\u001b[0;31mImportError\u001b[0m                               Traceback (most recent call last)",
      "Input \u001b[0;32mIn [15]\u001b[0m, in \u001b[0;36m<cell line: 1>\u001b[0;34m()\u001b[0m\n\u001b[0;32m----> 1\u001b[0m \u001b[38;5;28;01mfrom\u001b[39;00m \u001b[38;5;21;01mkeras\u001b[39;00m\u001b[38;5;21;01m.\u001b[39;00m\u001b[38;5;21;01mpreprocessing\u001b[39;00m\u001b[38;5;21;01m.\u001b[39;00m\u001b[38;5;21;01mimage\u001b[39;00m \u001b[38;5;28;01mimport\u001b[39;00m img_to_array\n\u001b[1;32m      2\u001b[0m \u001b[38;5;28;01mfrom\u001b[39;00m \u001b[38;5;21;01mkeras\u001b[39;00m\u001b[38;5;21;01m.\u001b[39;00m\u001b[38;5;21;01mmodels\u001b[39;00m \u001b[38;5;28;01mimport\u001b[39;00m load_model\n\u001b[1;32m      3\u001b[0m \u001b[38;5;28;01mfrom\u001b[39;00m \u001b[38;5;21;01mtensorflow\u001b[39;00m\u001b[38;5;21;01m.\u001b[39;00m\u001b[38;5;21;01mkeras\u001b[39;00m\u001b[38;5;21;01m.\u001b[39;00m\u001b[38;5;21;01mpreprocessing\u001b[39;00m\u001b[38;5;21;01m.\u001b[39;00m\u001b[38;5;21;01mimage\u001b[39;00m \u001b[38;5;28;01mimport\u001b[39;00m ImageDataGenerator, load_img\n",
      "\u001b[0;31mImportError\u001b[0m: cannot import name 'img_to_array' from 'keras.preprocessing.image' (/opt/anaconda3/lib/python3.9/site-packages/keras/preprocessing/image.py)"
     ]
    }
   ],
   "source": [
    "\n",
    "from keras.preprocessing.image import img_to_array\n",
    "from keras.models import load_model\n",
    "from tensorflow.keras.preprocessing.image import ImageDataGenerator, load_img\n",
    "model = load_model('fashionmodel.h5')\n",
    "# Load the image\n",
    "\n",
    "img = load_img('imm.png')\n",
    "\n",
    "result = model.predict_classes(img)\n",
    "# load and prepare the image\n",
    "def load_image(filename):\n",
    " # load the image\n",
    " img = load_img(filename, grayscale=True, target_size=(28, 28))\n",
    " # convert to array\n",
    " img = img_to_array(img)\n",
    " # reshape into a single sample with 1 channel\n",
    " img = img.reshape(1, 28, 28, 1)\n",
    " # prepare pixel data\n",
    " img = img.astype('float32')\n",
    " \n",
    " return img\n",
    " \n",
    "# load an image and predict the class\n",
    "def run_example():\n",
    " # load the image\n",
    " img = load_image('imm.png')\n",
    " # load model\n",
    "\n",
    " # predict the class\n",
    " result = model.predict_classes(img)\n",
    " print(result[0])\n",
    " \n",
    "# entry point, run the example\n",
    "run_example()"
   ]
  },
  {
   "cell_type": "code",
   "execution_count": 16,
   "id": "1df0db30",
   "metadata": {},
   "outputs": [
    {
     "ename": "SyntaxError",
     "evalue": "invalid syntax (1566520633.py, line 1)",
     "output_type": "error",
     "traceback": [
      "\u001b[0;36m  Input \u001b[0;32mIn [16]\u001b[0;36m\u001b[0m\n\u001b[0;31m    pip install --upgrade tensorflow\u001b[0m\n\u001b[0m        ^\u001b[0m\n\u001b[0;31mSyntaxError\u001b[0m\u001b[0;31m:\u001b[0m invalid syntax\n"
     ]
    }
   ],
   "source": [
    "pip install --upgrade tensorflow\n",
    "pip install --upgrade keras"
   ]
  },
  {
   "cell_type": "code",
   "execution_count": null,
   "id": "75567f76",
   "metadata": {},
   "outputs": [],
   "source": []
  }
 ],
 "metadata": {
  "kernelspec": {
   "display_name": "Python 3 (ipykernel)",
   "language": "python",
   "name": "python3"
  },
  "language_info": {
   "codemirror_mode": {
    "name": "ipython",
    "version": 3
   },
   "file_extension": ".py",
   "mimetype": "text/x-python",
   "name": "python",
   "nbconvert_exporter": "python",
   "pygments_lexer": "ipython3",
   "version": "3.9.12"
  }
 },
 "nbformat": 4,
 "nbformat_minor": 5
}
